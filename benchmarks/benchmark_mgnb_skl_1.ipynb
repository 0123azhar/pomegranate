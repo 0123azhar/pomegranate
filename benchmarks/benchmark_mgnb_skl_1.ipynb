{
 "cells": [
  {
   "cell_type": "markdown",
   "metadata": {},
   "source": [
    "# Benching Gaussian Naive Bayes"
   ]
  },
  {
   "cell_type": "markdown",
   "metadata": {},
   "source": [
    "This is a comparison of the speed and accuracy of the fit, predict, and out of core learning methods for gaussian naive bayes between scikit-learn and pomegranate."
   ]
  },
  {
   "cell_type": "code",
   "execution_count": 1,
   "metadata": {
    "collapsed": false
   },
   "outputs": [
    {
     "name": "stdout",
     "output_type": "stream",
     "text": [
      "Populating the interactive namespace from numpy and matplotlib\n"
     ]
    },
    {
     "name": "stderr",
     "output_type": "stream",
     "text": [
      "WARNING: pylab import has clobbered these variables: ['log', 'random']\n",
      "`%matplotlib` prevents importing * from pylab and numpy\n"
     ]
    }
   ],
   "source": [
    "from sklearn.naive_bayes import GaussianNB\n",
    "from pomegranate import *\n",
    "import time\n",
    "%pylab inline"
   ]
  },
  {
   "cell_type": "markdown",
   "metadata": {},
   "source": [
    "First lets get the data set that will be used to test the fit and predict methods for scikit-learn and pomegranate. In this case we'll generate a 5-dimensional normally distributed data set. It will contain 300,000 points for the first, second, and third multivariate gaussian distribution."
   ]
  },
  {
   "cell_type": "code",
   "execution_count": 2,
   "metadata": {
    "collapsed": false
   },
   "outputs": [],
   "source": [
    "n_trials = 100\n",
    "n, m, k, d = 1000, 1000, 1000, 5\n",
    "\n",
    "X = numpy.concatenate(( numpy.random.randn(n, d) + 2,\n",
    "                        numpy.random.randn(m, d) + 3,\n",
    "                        numpy.random.randn(k, d) + 4))\n",
    "y = numpy.concatenate(( numpy.zeros(n), numpy.ones(m), numpy.ones(k) + 1))\n",
    "\n",
    "i = numpy.arange(n+m+k)\n",
    "numpy.random.shuffle(i)\n",
    "\n",
    "X = X[i]\n",
    "y = y[i]\n",
    "\n",
    "for i in range(1, n_trials):\n",
    "    temp_X = numpy.concatenate(( numpy.random.randn(n, d) + 2,\n",
    "                                numpy.random.randn(m, d) + 3,\n",
    "                                numpy.random.randn(k, d) + 4))\n",
    "    temp_y = numpy.concatenate(( numpy.zeros(n), numpy.ones(m), numpy.ones(k) + 1))\n",
    "\n",
    "    temp_i = numpy.arange(n+m+k)\n",
    "    numpy.random.shuffle(temp_i)\n",
    "\n",
    "    X = numpy.concatenate((X, temp_X[temp_i]))\n",
    "    y = numpy.concatenate((y, temp_y[temp_i]))"
   ]
  },
  {
   "cell_type": "markdown",
   "metadata": {},
   "source": [
    "Now let's create our guassian naive bayes classifier for both scikit-learn and pomegranate."
   ]
  },
  {
   "cell_type": "code",
   "execution_count": 3,
   "metadata": {
    "collapsed": false
   },
   "outputs": [],
   "source": [
    "skl = GaussianNB()\n",
    "pom = NaiveBayes( MultivariateGaussianDistribution )"
   ]
  },
  {
   "cell_type": "markdown",
   "metadata": {},
   "source": [
    "Now we can run our first test, benching the fitting methods for both scikit-learn and pomegranate. This is done by fitting both classifiers to the first 1,000 points in our randomly generated dataset and timing how long it takes. We then repeat this for the next 1,000 until we reach the end of the dataset."
   ]
  },
  {
   "cell_type": "code",
   "execution_count": 4,
   "metadata": {
    "collapsed": true
   },
   "outputs": [],
   "source": [
    "skl_fit_time = 0\n",
    "pom_fit_time = 0\n",
    "\n",
    "def bench_fit( clf, X, y ):\n",
    "    tic = time.time()\n",
    "    clf.fit( X, y )\n",
    "    return time.time() - tic"
   ]
  },
  {
   "cell_type": "markdown",
   "metadata": {},
   "source": [
    "We also test the prediction times between scikit-learn and pomegranate in a similar way to the fit test. We use the same randomly generated dataset and feed it into the predict methods for both implementations of gaussian naive bayes and time how long it takes each to complete."
   ]
  },
  {
   "cell_type": "code",
   "execution_count": 5,
   "metadata": {
    "collapsed": true
   },
   "outputs": [],
   "source": [
    "skl_predict_time = 0\n",
    "pom_predict_time = 0\n",
    "\n",
    "def bench_predict( clf, X ):\n",
    "    tic = time.time()\n",
    "    predictions = clf.predict( X )\n",
    "    return time.time() - tic, predictions"
   ]
  },
  {
   "cell_type": "markdown",
   "metadata": {},
   "source": [
    "Finally we also find the average error over all the predictions."
   ]
  },
  {
   "cell_type": "code",
   "execution_count": 6,
   "metadata": {
    "collapsed": false
   },
   "outputs": [
    {
     "name": "stdout",
     "output_type": "stream",
     "text": [
      "scikit-learn fit time: 0.55123591423s\n",
      "pomegranate fit time: 0.439584493637s\n",
      "\n",
      "scikit-learn predict time: 0.10261797905s\n",
      "pomegranate predict time: 0.112411499023s\n",
      "\n",
      "scikit-learn average incorrect points: 523.86 out of 3000\n",
      "pomegranate average incorrect points: 523.86 out of 3000\n"
     ]
    },
    {
     "name": "stderr",
     "output_type": "stream",
     "text": [
      "Exception numpy.linalg.linalg.LinAlgError: LinAlgError('Singular matrix',) in 'pomegranate.distributions.MultivariateGaussianDistribution._from_summaries' ignored\n",
      "Exception numpy.linalg.linalg.LinAlgError: LinAlgError('Singular matrix',) in 'pomegranate.distributions.MultivariateGaussianDistribution._from_summaries' ignored\n",
      "Exception numpy.linalg.linalg.LinAlgError: LinAlgError('Singular matrix',) in 'pomegranate.distributions.MultivariateGaussianDistribution._from_summaries' ignored\n"
     ]
    }
   ],
   "source": [
    "skl_wrong = list()\n",
    "pom_wrong = list()\n",
    "\n",
    "for i in range(n_trials):\n",
    "    start = (m+n+k)*i\n",
    "    stop = (m+n+k)*(i+1)\n",
    "    \n",
    "    skl_fit_time += bench_fit( skl, X[start:stop], y[start:stop] )\n",
    "    pom_fit_time += bench_fit( pom, X[start:stop], y[start:stop] )\n",
    "    \n",
    "    foo, skl_predict = bench_predict( skl, X[start:stop] )\n",
    "    skl_predict_time += foo\n",
    "    bar, pom_predict = bench_predict( skl, X[start:stop] )    \n",
    "    pom_predict_time += bar\n",
    "    \n",
    "    skl_wrong.append((y[start:stop] != skl_predict).sum())\n",
    "    pom_wrong.append((y[start:stop] != pom_predict).sum())\n",
    "\n",
    "print \"scikit-learn fit time: {}s\".format( skl_fit_time )\n",
    "print \"pomegranate fit time: {}s\".format( pom_fit_time )\n",
    "print\n",
    "print \"scikit-learn predict time: {}s\".format( skl_predict_time )\n",
    "print \"pomegranate predict time: {}s\".format( pom_predict_time )\n",
    "print\n",
    "print \"scikit-learn average incorrect points: {} out of {}\".format( float(sum(skl_wrong)) / n_trials, n+m+k )\n",
    "print \"pomegranate average incorrect points: {} out of {}\".format( float(sum(pom_wrong)) / n_trials, n+m+k )"
   ]
  },
  {
   "cell_type": "markdown",
   "metadata": {},
   "source": [
    "Now we can compare scikit-learn and pomegranate out of core learning methods. For scikit-learn, this is done by simply running the method ```partial_fit```. For pomegranate this is done by running the method ```summarize``` for each dataset then running ```from_summaries``` at the end.\n",
    "\n",
    "Benching is done by feeding in the same randomly generated dataset in 1,000 points at a time."
   ]
  },
  {
   "cell_type": "code",
   "execution_count": 7,
   "metadata": {
    "collapsed": false
   },
   "outputs": [
    {
     "name": "stdout",
     "output_type": "stream",
     "text": [
      "scikit-learn partial fit time: 0.189670085907s\n",
      "pomegranate partial fit time: 0.0706443786621s\n"
     ]
    },
    {
     "name": "stderr",
     "output_type": "stream",
     "text": [
      "Exception numpy.linalg.linalg.LinAlgError: LinAlgError('Singular matrix',) in 'pomegranate.distributions.MultivariateGaussianDistribution._from_summaries' ignored\n",
      "Exception numpy.linalg.linalg.LinAlgError: LinAlgError('Singular matrix',) in 'pomegranate.distributions.MultivariateGaussianDistribution._from_summaries' ignored\n",
      "Exception numpy.linalg.linalg.LinAlgError: LinAlgError('Singular matrix',) in 'pomegranate.distributions.MultivariateGaussianDistribution._from_summaries' ignored\n"
     ]
    }
   ],
   "source": [
    "skl = GaussianNB()\n",
    "pom = NaiveBayes( MultivariateGaussianDistribution )\n",
    "\n",
    "skl_partial_time = 0\n",
    "pom_partial_time = 0\n",
    "\n",
    "for i in range(n_trials):\n",
    "    start = (m+n+k)*i\n",
    "    stop = (m+n+k)*(i+1)\n",
    "    \n",
    "    tic = time.time()\n",
    "    skl.partial_fit( X[start:stop], y[start:stop], classes=[0, 1, 2] )\n",
    "    skl_partial_time += time.time() - tic\n",
    "    \n",
    "    tic = time.time()\n",
    "    pom.summarize( X[start:stop], y[start:stop] )\n",
    "    pom_partial_time += time.time() - tic\n",
    "\n",
    "tic = time.time()\n",
    "pom.from_summaries()\n",
    "pom_partial_time += time.time() - tic\n",
    "\n",
    "print \"scikit-learn partial fit time: {}s\".format( skl_partial_time )\n",
    "print \"pomegranate partial fit time: {}s\".format( pom_partial_time )"
   ]
  },
  {
   "cell_type": "markdown",
   "metadata": {},
   "source": [
    "For our final test, we check how closely the prediction for both scikit-learn and pomegranate match the actual classes in the dataset after the partial fit. Afterall, if the results are terrible, it does not matter how fast implementation is."
   ]
  },
  {
   "cell_type": "code",
   "execution_count": 8,
   "metadata": {
    "collapsed": false
   },
   "outputs": [
    {
     "name": "stdout",
     "output_type": "stream",
     "text": [
      "scikit-learn incorrect points: 52702 out of 300000\n",
      "pomegranate incorrect points: 52739 out of 300000\n"
     ]
    }
   ],
   "source": [
    "skl_partial_predict = skl.predict( X )\n",
    "pom_partial_predict = pom.predict( X )\n",
    "\n",
    "skl_partial_wrong = (y != skl_partial_predict).sum()\n",
    "pom_partial_wrong = (y != pom_partial_predict).sum()\n",
    "\n",
    "print \"scikit-learn incorrect points: {} out of {}\".format( skl_partial_wrong, len( skl_partial_predict ) )\n",
    "print \"pomegranate incorrect points: {} out of {}\".format( pom_partial_wrong, len( pom_partial_predict ) )"
   ]
  },
  {
   "cell_type": "markdown",
   "metadata": {},
   "source": [
    "Here is a comparison of the final results. First with a comparison the the speeds of the fit and predict methods."
   ]
  },
  {
   "cell_type": "code",
   "execution_count": 9,
   "metadata": {
    "collapsed": false,
    "scrolled": true
   },
   "outputs": [
    {
     "data": {
      "text/plain": [
       "<matplotlib.legend.Legend at 0x7fcc06e37950>"
      ]
     },
     "execution_count": 9,
     "metadata": {},
     "output_type": "execute_result"
    },
    {
     "data": {
      "image/png": "[encoded data removed]",
      "text/plain": [
       "<matplotlib.figure.Figure at 0x7fcc099f9a90>"
      ]
     },
     "metadata": {},
     "output_type": "display_data"
    }
   ],
   "source": [
    "fig, ax = pyplot.subplots()\n",
    "\n",
    "skl_times = ax.bar((0, 1, 2), (skl_fit_time, skl_predict_time, skl_partial_time), 0.3, color='g')\n",
    "pom_times = ax.bar((0.4, 1.4, 2.4), (pom_fit_time, pom_predict_time, pom_partial_time), 0.3, color='b')\n",
    "\n",
    "ax.set_title('Fit and Predict Times for scikit-learn and pomegranate')\n",
    "ax.set_ylabel('time (sec)')\n",
    "ax.set_xticks((0.35, 1.35, 2.35))\n",
    "ax.set_xticklabels(('fit methods', 'predict methods', 'out of core learning'))\n",
    "ax.legend((skl_times, pom_times), ('scikit-learn', 'pomegranate'), bbox_to_anchor=(0.4,1))"
   ]
  },
  {
   "cell_type": "markdown",
   "metadata": {},
   "source": [
    "Then a comparison of how many incorrect labels are created with each predict method out of a total of 30,000 samples. Note that pomegranate has a slightly higher accuracy since it trains the full covariance matrix while scikit-learn only trains the diagonal."
   ]
  },
  {
   "cell_type": "code",
   "execution_count": 10,
   "metadata": {
    "collapsed": false
   },
   "outputs": [
    {
     "data": {
      "text/plain": [
       "[<matplotlib.text.Text at 0x7fcc06cef810>,\n",
       " <matplotlib.text.Text at 0x7fcc06cf93d0>,\n",
       " <matplotlib.text.Text at 0x7fcc06c70450>]"
      ]
     },
     "execution_count": 10,
     "metadata": {},
     "output_type": "execute_result"
    },
    {
     "data": {
      "image/png": "[encoded data removed]",
      "text/plain": [
       "<matplotlib.figure.Figure at 0x7fcc06d2db10>"
      ]
     },
     "metadata": {},
     "output_type": "display_data"
    }
   ],
   "source": [
    "fig, ax = pyplot.subplots()\n",
    "\n",
    "skl_correct = ax.bar((0), (float(sum(skl_wrong))/n_trials), 0.3, color='g')\n",
    "pom_correct = ax.bar((0.5), (float(sum(pom_wrong))/n_trials), 0.3, color='b')\n",
    "totals = ax.bar((1), (m+n+k), 0.3, color='r')\n",
    "\n",
    "ax.set_title('Incorrect Predictions for scikit-learn and pomegranate')\n",
    "ax.set_xticks((0.15, 0.65, 1.15))\n",
    "ax.set_xticklabels(('scikit-learn', 'pomegranate', 'total samples'))"
   ]
  },
  {
   "cell_type": "code",
   "execution_count": 11,
   "metadata": {
    "collapsed": false,
    "scrolled": true
   },
   "outputs": [
    {
     "data": {
      "text/plain": [
       "[<matplotlib.text.Text at 0x7fcc06c35110>,\n",
       " <matplotlib.text.Text at 0x7fcc06c355d0>,\n",
       " <matplotlib.text.Text at 0x7fcc06c12ad0>]"
      ]
     },
     "execution_count": 11,
     "metadata": {},
     "output_type": "execute_result"
    },
    {
     "data": {
      "image/png": "[encoded data removed]",
      "text/plain": [
       "<matplotlib.figure.Figure at 0x7fcc06cf9150>"
      ]
     },
     "metadata": {},
     "output_type": "display_data"
    }
   ],
   "source": [
    "fig, ax = pyplot.subplots()\n",
    "\n",
    "skl_correct = ax.bar((0), skl_partial_wrong, 0.3, color='g')\n",
    "pom_correct = ax.bar((0.5), pom_partial_wrong, 0.3, color='b')\n",
    "totals = ax.bar((1), (m+n+k)*n_trials, 0.3, color='r')\n",
    "\n",
    "ax.set_title('Incorrect Predictions for Out of Core Learning')\n",
    "ax.set_xticks((0.15, 0.65, 1.15))\n",
    "ax.set_xticklabels(('scikit-learn', 'pomegranate', 'total samples'))"
   ]
  },
  {
   "cell_type": "markdown",
   "metadata": {},
   "source": [
    "As one can see, in terms of speed pomegranate slightly edges out scikit-learn in terms of speed. Error is also comparable when doing regular fitting and out of core learning. However unlike scikit-learn, pomegranate's implementation of naive bayes makes it so that any distribution or model that can output a probability can be used as a component assuming all components have the same inputs. So for example mix and matching gaussian with uniform and exponential, or even using hidden markov models."
   ]
  }
 ],
 "metadata": {
  "kernelspec": {
   "display_name": "Python 2",
   "language": "python",
   "name": "python2"
  },
  "language_info": {
   "codemirror_mode": {
    "name": "ipython",
    "version": 2
   },
   "file_extension": ".py",
   "mimetype": "text/x-python",
   "name": "python",
   "nbconvert_exporter": "python",
   "pygments_lexer": "ipython2",
   "version": "2.7.11"
  }
 },
 "nbformat": 4,
 "nbformat_minor": 0
}
