{
 "cells": [
  {
   "cell_type": "markdown",
   "metadata": {},
   "source": [
    "# General Mixture Models"
   ]
  },
  {
   "cell_type": "markdown",
   "metadata": {},
   "source": [
    "author: Jacob Schreiber <br>\n",
    "contact: jmschreiber91@gmail.com"
   ]
  },
  {
   "cell_type": "markdown",
   "metadata": {},
   "source": [
    "It is frequently the case that the data you have is not explained by a single underlying distribution. If we want to try to recover the underlying distributions, we need to have a model which has multiple components. An example is the following data."
   ]
  },
  {
   "cell_type": "code",
   "execution_count": 29,
   "metadata": {
    "collapsed": false
   },
   "outputs": [
    {
     "name": "stdout",
     "output_type": "stream",
     "text": [
      "Populating the interactive namespace from numpy and matplotlib\n"
     ]
    },
    {
     "name": "stderr",
     "output_type": "stream",
     "text": [
      "WARNING: pylab import has clobbered these variables: ['random', 'cov', 'log']\n",
      "`%matplotlib` prevents importing * from pylab and numpy\n"
     ]
    }
   ],
   "source": [
    "from pomegranate import *\n",
    "%pylab inline\n",
    "import numpy as np"
   ]
  },
  {
   "cell_type": "code",
   "execution_count": 30,
   "metadata": {
    "collapsed": false
   },
   "outputs": [
    {
     "data": {
      "text/plain": [
       "(array([   3.,    3.,    6.,   16.,   15.,   34.,   26.,   30.,   24.,\n",
       "          22.,   23.,   19.,   27.,   42.,  113.,  126.,  123.,   76.,\n",
       "          18.,    4.]),\n",
       " array([ -5.52206835,  -4.67671553,  -3.8313627 ,  -2.98600988,\n",
       "         -2.14065706,  -1.29530424,  -0.44995142,   0.3954014 ,\n",
       "          1.24075422,   2.08610704,   2.93145986,   3.77681268,\n",
       "          4.6221655 ,   5.46751832,   6.31287114,   7.15822396,\n",
       "          8.00357678,   8.8489296 ,   9.69428242,  10.53963524,  11.38498806]),\n",
       " <a list of 20 Patch objects>)"
      ]
     },
     "execution_count": 30,
     "metadata": {},
     "output_type": "execute_result"
    },
    {
     "data": {
      "image/png": "[encoded data removed]",
      "text/plain": [
       "<matplotlib.figure.Figure at 0x7f49373db590>"
      ]
     },
     "metadata": {},
     "output_type": "display_data"
    }
   ],
   "source": [
    "data = np.concatenate( (np.random.randn(250) * 2.75 + 1.25, np.random.randn(500) * 1.2 + 7.85) )\n",
    "np.random.shuffle(data)\n",
    "plt.hist( data, edgecolor='c', color='c', bins=20 )"
   ]
  },
  {
   "cell_type": "markdown",
   "metadata": {},
   "source": [
    "We can create our initial estimate of what this distribution is a General Mixture Model. This is a model which is comprised of multiple distributions, and weights on those distributions representing the prior probability of a point falling under that distribution given no knowledge of the point itself (defaults to equal). We can have univariate mixture models by using univariate distributions, or multivariate distributions by using multivariate distributions."
   ]
  },
  {
   "cell_type": "markdown",
   "metadata": {},
   "source": [
    "## Gaussian Mixture Models"
   ]
  },
  {
   "cell_type": "code",
   "execution_count": 31,
   "metadata": {
    "collapsed": false
   },
   "outputs": [],
   "source": [
    "d = GeneralMixtureModel( [NormalDistribution(2.5, 1), NormalDistribution(8, 1)] )"
   ]
  },
  {
   "cell_type": "markdown",
   "metadata": {},
   "source": [
    "We can now predict the class labels of each point under this mixture. "
   ]
  },
  {
   "cell_type": "code",
   "execution_count": 32,
   "metadata": {
    "collapsed": false
   },
   "outputs": [
    {
     "name": "stdout",
     "output_type": "stream",
     "text": [
      "[0 1 1 1 1]\n",
      "515 1 labels, 235 0 labels\n"
     ]
    }
   ],
   "source": [
    "labels = d.predict( data )\n",
    "print labels[:5]\n",
    "print \"{} 1 labels, {} 0 labels\".format( labels.sum(), labels.shape[0] - labels.sum() )"
   ]
  },
  {
   "cell_type": "markdown",
   "metadata": {},
   "source": [
    "This is fairly close to the number of underlying points from each distribution, off by 17 in each label. We still don't know if the labels are accurate, just the number of labels."
   ]
  },
  {
   "cell_type": "code",
   "execution_count": 33,
   "metadata": {
    "collapsed": false
   },
   "outputs": [
    {
     "data": {
      "text/plain": [
       "(array([ 17.,  14.,  13.,  29.,  34.,  49.,  60.,  35.,  49.,  51.,  38.,\n",
       "         47.,  31.,  20.,  12.,   8.,   2.,   3.,   1.,   2.]),\n",
       " array([  5.26445893,   5.57048539,   5.87651184,   6.1825383 ,\n",
       "          6.48856475,   6.79459121,   7.10061767,   7.40664412,\n",
       "          7.71267058,   8.01869704,   8.32472349,   8.63074995,\n",
       "          8.93677641,   9.24280286,   9.54882932,   9.85485578,\n",
       "         10.16088223,  10.46690869,  10.77293515,  11.0789616 ,  11.38498806]),\n",
       " <a list of 20 Patch objects>)"
      ]
     },
     "execution_count": 33,
     "metadata": {},
     "output_type": "execute_result"
    },
    {
     "data": {
      "image/png": "[encoded data removed]",
      "text/plain": [
       "<matplotlib.figure.Figure at 0x7f4936f7d950>"
      ]
     },
     "metadata": {},
     "output_type": "display_data"
    }
   ],
   "source": [
    "plt.hist( data[ labels == 0 ], edgecolor='r', color='r', bins=20 )\n",
    "plt.hist( data[ labels == 1 ], edgecolor='c', color='c', bins=20 )"
   ]
  },
  {
   "cell_type": "markdown",
   "metadata": {},
   "source": [
    "It is slightly more difficult to update the underlying components of the model because we don't have labels indicating which point came from which distribution. We could try to use the labels inferred from the model. It seems to cleanly split it, but what if our initial estimate was not very good? It could be difficult to get a good update if we had a bad prior. \n",
    "\n",
    "Another possibility is to predict the probability of each point under each component, to get a softer estimate of the labels. Lets take a look."
   ]
  },
  {
   "cell_type": "code",
   "execution_count": 34,
   "metadata": {
    "collapsed": false
   },
   "outputs": [
    {
     "name": "stdout",
     "output_type": "stream",
     "text": [
      "[[  1.00000000e+00   4.70833167e-10]\n",
      " [  2.24133761e-06   9.99997759e-01]\n",
      " [  2.38646605e-06   9.99997614e-01]\n",
      " [  8.51940430e-07   9.99999148e-01]\n",
      " [  1.30712464e-05   9.99986929e-01]]\n",
      "[ 239.39933451  510.60066549]\n"
     ]
    }
   ],
   "source": [
    "labels = d.predict_proba( data )\n",
    "print labels[:5]\n",
    "print labels.sum(axis=0)"
   ]
  },
  {
   "cell_type": "markdown",
   "metadata": {},
   "source": [
    "This is slightly closer to the truth, with 15.2 off instead of 17, around 10% closer.\n",
    "\n",
    "This is the beginning of a common unsupervised training algorithm called <b>expectation maximization</b>. It has two steps, <b>expectation</b> and <b>maximization</b>. The <b>expectation</b> step involves what we just did--assigning weights based on the probability of each point being generated by each component. The next step, <b>maximization</b>, is maximizing the probability that the distribution generated these points but performing weighted MLE.\n",
    "\n",
    "This process must be iterated until convergence. Sometimes this requires only a single update, but for overlapping distributions (such as this one) it can sometimes take many iterations."
   ]
  },
  {
   "cell_type": "code",
   "execution_count": 35,
   "metadata": {
    "collapsed": false
   },
   "outputs": [
    {
     "name": "stdout",
     "output_type": "stream",
     "text": [
      "Improvement: 752.303100426\n",
      "Improvement: 1.12121719634\n",
      "Improvement: 0.0607945373833\n"
     ]
    },
    {
     "data": {
      "text/plain": [
       "753.4851121595696"
      ]
     },
     "execution_count": 35,
     "metadata": {},
     "output_type": "execute_result"
    }
   ],
   "source": [
    "d.fit( data, verbose=True )"
   ]
  },
  {
   "cell_type": "markdown",
   "metadata": {},
   "source": [
    "## Multivariate Gaussian Mixture Models"
   ]
  },
  {
   "cell_type": "markdown",
   "metadata": {},
   "source": [
    "We can do the same with multivariate distributions just as easily."
   ]
  },
  {
   "cell_type": "code",
   "execution_count": 36,
   "metadata": {
    "collapsed": true
   },
   "outputs": [],
   "source": [
    "mu = np.arange(5)\n",
    "cov = np.eye(5)\n",
    "\n",
    "mgs = [ MultivariateGaussianDistribution( mu*i, cov ) for i in range(5) ]\n",
    "gmm = GeneralMixtureModel( mgs )"
   ]
  },
  {
   "cell_type": "code",
   "execution_count": 37,
   "metadata": {
    "collapsed": true
   },
   "outputs": [],
   "source": [
    "data = numpy.random.randn(1000, 5) * 5\n",
    "for i in range(5):\n",
    "    data[i::5] += np.arange(5)*i"
   ]
  },
  {
   "cell_type": "markdown",
   "metadata": {},
   "source": [
    "Lets see how well some points fit under the mixture model."
   ]
  },
  {
   "cell_type": "code",
   "execution_count": 38,
   "metadata": {
    "collapsed": false
   },
   "outputs": [
    {
     "name": "stdout",
     "output_type": "stream",
     "text": [
      "Point 0: logp -32.2208337571\n",
      "Point 1: logp -74.2396029911\n",
      "Point 2: logp -13.1461073517\n",
      "Point 3: logp -98.9398743945\n",
      "Point 4: logp -120.049894374\n",
      "Point 5: logp -16.6816486963\n",
      "Point 6: logp -42.4213250082\n",
      "Point 7: logp -134.033559163\n",
      "Point 8: logp -43.4193590546\n",
      "Point 9: logp -49.2108645656\n"
     ]
    }
   ],
   "source": [
    "for i in range(10):\n",
    "    print \"Point {}: logp {}\".format( i, gmm.log_probability(data[i]) )"
   ]
  },
  {
   "cell_type": "code",
   "execution_count": 39,
   "metadata": {
    "collapsed": false
   },
   "outputs": [
    {
     "name": "stdout",
     "output_type": "stream",
     "text": [
      "Improvement: 44076.995506\n",
      "Improvement: 26.1949576399\n",
      "Improvement: 9.20000244805\n",
      "Improvement: 4.97667231813\n",
      "Improvement: 3.65165562198\n",
      "Improvement: 3.29776999307\n",
      "Improvement: 3.02443297406\n",
      "Improvement: 2.57327565081\n",
      "Improvement: 2.0645804113\n",
      "Improvement: 1.66283026306\n",
      "Improvement: 1.36771287423\n",
      "Improvement: 1.13827103772\n",
      "Improvement: 0.949413210701\n"
     ]
    },
    {
     "data": {
      "text/plain": [
       "44137.09708046816"
      ]
     },
     "execution_count": 39,
     "metadata": {},
     "output_type": "execute_result"
    }
   ],
   "source": [
    "gmm.fit(data, verbose=True, stop_threshold=1)"
   ]
  },
  {
   "cell_type": "markdown",
   "metadata": {},
   "source": [
    "Now lets see how well the previous points fit."
   ]
  },
  {
   "cell_type": "code",
   "execution_count": 40,
   "metadata": {
    "collapsed": false
   },
   "outputs": [
    {
     "name": "stdout",
     "output_type": "stream",
     "text": [
      "Point 0: logp -14.3131023629\n",
      "Point 1: logp -16.1933864445\n",
      "Point 2: logp -13.5736850944\n",
      "Point 3: logp -16.9505557456\n",
      "Point 4: logp -18.2913914294\n",
      "Point 5: logp -14.2573393662\n",
      "Point 6: logp -14.607408047\n",
      "Point 7: logp -18.664549595\n",
      "Point 8: logp -15.3567315547\n",
      "Point 9: logp -15.4597473515\n"
     ]
    }
   ],
   "source": [
    "for i in range(10):\n",
    "    print \"Point {}: logp {}\".format( i, gmm.log_probability(data[i]) )"
   ]
  },
  {
   "cell_type": "markdown",
   "metadata": {},
   "source": [
    "Looks like they're being fit significantly better than before! Training works."
   ]
  },
  {
   "cell_type": "markdown",
   "metadata": {},
   "source": [
    "## Discrete Mixture Models"
   ]
  },
  {
   "cell_type": "markdown",
   "metadata": {},
   "source": [
    "In addition to having general mixture models over continuous distributions, we can also have mixture models over discrete distributions. This is useful in many bioinformatics contexts, specifically sequence analysis. Lets use the toy analysis of trying to analyze CG island distribution.\n",
    "\n",
    "The problem is the following; DNA is made up of long sequences the four canonical nucleotides, abbreviated 'A', 'C', 'G', and 'T'. These nucleotides are not distributed randomly, and there is significant amounts of structure in the sequence. A major field in bioinformatics is trying to interpret this structure. One structured element is the CG content, where the Cs and the Gs appear more commonly than in the background. If we want to try to determine CG percentages in these islands, we can use a mixture model."
   ]
  },
  {
   "cell_type": "code",
   "execution_count": 41,
   "metadata": {
    "collapsed": false
   },
   "outputs": [],
   "source": [
    "d1 = DiscreteDistribution( {'A' : 0.25, 'C': 0.25, 'G' : 0.25, 'T': 0.25 } ) # Background\n",
    "d2 = DiscreteDistribution( {'A' : 0.05, 'C': 0.45, 'G' : 0.45, 'T': 0.05 } ) # CG rich regions\n",
    "gmm = GeneralMixtureModel( [d1, d2] )"
   ]
  },
  {
   "cell_type": "code",
   "execution_count": 42,
   "metadata": {
    "collapsed": false
   },
   "outputs": [
    {
     "data": {
      "text/plain": [
       "3.4766541840931495"
      ]
     },
     "execution_count": 42,
     "metadata": {},
     "output_type": "execute_result"
    }
   ],
   "source": [
    "seq = numpy.array(list('CGACATCTGACTACGGCGCGCCTACTACTTGATCGATACGGCGTCAGCGACGACGATGATCGGCATCAGTCACTAC'))\n",
    "gmm.fit(seq)"
   ]
  },
  {
   "cell_type": "code",
   "execution_count": 43,
   "metadata": {
    "collapsed": false
   },
   "outputs": [
    {
     "name": "stdout",
     "output_type": "stream",
     "text": [
      "[{\n",
      "    \"frozen\" : false,\n",
      "    \"class\" : \"Distribution\",\n",
      "    \"parameters\" : [\n",
      "        {\n",
      "            \"A\" : 0.35000000000000009,\n",
      "            \"C\" : 0.19999999999999993,\n",
      "            \"T\" : 0.29166666666666674,\n",
      "            \"G\" : 0.15833333333333327\n",
      "        }\n",
      "    ],\n",
      "    \"name\" : \"DiscreteDistribution\"\n",
      "}, {\n",
      "    \"frozen\" : false,\n",
      "    \"class\" : \"Distribution\",\n",
      "    \"parameters\" : [\n",
      "        {\n",
      "            \"A\" : 0.090517241379310304,\n",
      "            \"C\" : 0.46551724137931033,\n",
      "            \"T\" : 0.075431034482758591,\n",
      "            \"G\" : 0.36853448275862077\n",
      "        }\n",
      "    ],\n",
      "    \"name\" : \"DiscreteDistribution\"\n",
      "}]\n",
      "\n",
      "[ 0.56390977  0.43609023]\n"
     ]
    }
   ],
   "source": [
    "print gmm.distributions\n",
    "print\n",
    "print numpy.exp(gmm.weights)"
   ]
  },
  {
   "cell_type": "markdown",
   "metadata": {},
   "source": [
    "Looks like in this case the concept was sound, that there many CG rich regions, but our initial estimates of the  percentages were off. We can use a GMM like the one above to both identify and study the composition of these regions at the same time, updating the parameters of the distributions using expectation-maximization. We will go into a more complex way of dong this using HMMs in the next tutorial."
   ]
  },
  {
   "cell_type": "markdown",
   "metadata": {},
   "source": [
    "## Concluding Remarks"
   ]
  },
  {
   "cell_type": "markdown",
   "metadata": {},
   "source": [
    "General Mixture Models are extremely powerful tools for unsupervised learning. pomegranate makes it easy to define, fit, and make predictions using these models. All the examples above have used the same distribution type for all the components of the mixture, but that is not a requirement, if your application requires varied distributions."
   ]
  }
 ],
 "metadata": {
  "kernelspec": {
   "display_name": "Python 2",
   "language": "python",
   "name": "python2"
  },
  "language_info": {
   "codemirror_mode": {
    "name": "ipython",
    "version": 2
   },
   "file_extension": ".py",
   "mimetype": "text/x-python",
   "name": "python",
   "nbconvert_exporter": "python",
   "pygments_lexer": "ipython2",
   "version": "2.7.10"
  }
 },
 "nbformat": 4,
 "nbformat_minor": 0
}
