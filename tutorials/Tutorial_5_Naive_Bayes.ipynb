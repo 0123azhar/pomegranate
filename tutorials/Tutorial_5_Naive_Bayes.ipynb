{
 "cells": [
  {
   "cell_type": "markdown",
   "metadata": {},
   "source": [
    "# Naive Bayes\n",
    "\n",
    "author: Jacob Schreiber <br>\n",
    "contact: jmschreiber91@gmail.com\n",
    "\n",
    "Naive Bayes refers to a method based off of Bayes' Rule for determining which model fits better. Bayes Rule is the following:\n",
    "\n",
    "\\begin{equation}\n",
    "P(M|D)P(D) = P(D|M)P(M)\n",
    "\\end{equation}\n",
    "\n",
    "where M stands for the model and D stands for the data. This equation has several important components. $P(M)$ is known as the <i>prior</i>, because it is your prior belief that a specific model fits the data the best before you see any data. $P(D|M)$ is the likelihood, or the probability of the data under a given model. Lastly, $P(M|D)$ is the posterior, which is the probability of the model being the one which generated the data after observing the data. This equation forms the basis of Bayesian learning, which differs primarily because instead of using the likelihood directly, uses the posterior, which is the likelihood regularized by the prior. In this way we can inject our belief about a situation before observing any data.\n",
    "\n",
    "This is frequently rewritten in the following way:\n",
    "\n",
    "\\begin{equation}\n",
    "P(M|D) = \\frac{P(D|M)P(M)}{P(D)}\n",
    "\\end{equation}\n",
    "\n",
    "But what is the probability of the data? It doesn't seem intuitive to calculate this value, and so it's calculated in a bit of a roundabout way:\n",
    "\n",
    "\\begin{equation}\n",
    "P(D) = \\sum\\limits_{M \\in models} P(D|M)P(M)\n",
    "\\end{equation}\n",
    "\n",
    "This is known as the partition function and is the computationally intractable part of many Bayesian learning methods because of this sum. Taking the log of this part may turn multiplications into additions, but the overall sum remains and cannot be simplified out.\n",
    "\n",
    "Naive Bayes is the simplest of the methods which takes advantage of this rule. Basically, you may have several models which you believe generate different types of data, and you want to then go backwards and figure out which model generated a particular sample.\n",
    "\n",
    "Lets take a look using simple distributions."
   ]
  },
  {
   "cell_type": "code",
   "execution_count": 1,
   "metadata": {
    "collapsed": false
   },
   "outputs": [
    {
     "name": "stdout",
     "output_type": "stream",
     "text": [
      "Populating the interactive namespace from numpy and matplotlib\n"
     ]
    },
    {
     "name": "stderr",
     "output_type": "stream",
     "text": [
      "WARNING: pylab import has clobbered these variables: ['log', 'random']\n",
      "`%matplotlib` prevents importing * from pylab and numpy\n"
     ]
    }
   ],
   "source": [
    "from pomegranate import *\n",
    "import seaborn\n",
    "%pylab inline\n",
    "seaborn.set_style('whitegrid')\n",
    "numpy.set_printoptions(suppress=True)"
   ]
  },
  {
   "cell_type": "code",
   "execution_count": 2,
   "metadata": {
    "collapsed": false
   },
   "outputs": [
    {
     "data": {
      "image/png": "[encoded data removed]",
      "text/plain": [
       "<matplotlib.figure.Figure at 0x7f8e92357b90>"
      ]
     },
     "metadata": {},
     "output_type": "display_data"
    }
   ],
   "source": [
    "X = numpy.concatenate((numpy.random.randn(200) + 5, numpy.random.randn(1000) + 9))\n",
    "y = numpy.concatenate((numpy.zeros(200), numpy.ones(1000)))\n",
    "i = numpy.arange(1200)\n",
    "numpy.random.shuffle(i)\n",
    "X = X[i]\n",
    "y = y[i]\n",
    "\n",
    "plt.figure( figsize=(16, 5))\n",
    "plt.hist(X[y==0], bins=25, color='m', edgecolor='m')\n",
    "plt.hist(X[y==1], bins=25, color='c', edgecolor='c')\n",
    "plt.show()"
   ]
  },
  {
   "cell_type": "markdown",
   "metadata": {},
   "source": [
    "Naive Bayes can act as a supervised version of Gaussian Mixture Models. A GMM could be applied to the unlabelled data similarly to the previous GMM notebook. However, if we have known labels, we don't need to use the EM algorithm. We can just give the components and fit them directly using MLE.\n",
    "\n",
    "This can be done either by passing in a constructor of a distribution or a list of the actual models. Lets see the constructor method first."
   ]
  },
  {
   "cell_type": "code",
   "execution_count": 3,
   "metadata": {
    "collapsed": false
   },
   "outputs": [
    {
     "data": {
      "text/plain": [
       "array([[ 0.00000109,  0.99999891],\n",
       "       [ 0.00010142,  0.99989858],\n",
       "       [ 0.00004986,  0.99995014],\n",
       "       [ 0.00000052,  0.99999948],\n",
       "       [ 0.00000392,  0.99999608],\n",
       "       [ 0.00000002,  0.99999998],\n",
       "       [ 0.00000127,  0.99999873],\n",
       "       [ 0.00000004,  0.99999996],\n",
       "       [ 0.00012191,  0.99987809],\n",
       "       [ 0.98133653,  0.01866347]])"
      ]
     },
     "execution_count": 3,
     "metadata": {},
     "output_type": "execute_result"
    }
   ],
   "source": [
    "clf = NaiveBayes( NormalDistribution )\n",
    "clf.fit( X, y )\n",
    "clf.predict_proba( X[:10] )"
   ]
  },
  {
   "cell_type": "markdown",
   "metadata": {},
   "source": [
    "Using this method we can pass in other arbitrary distributions and fit them. If we want to fit Poisson distributions instead of a Normal, all we have to do is pass in the Poisson constructor."
   ]
  },
  {
   "cell_type": "code",
   "execution_count": 4,
   "metadata": {
    "collapsed": false
   },
   "outputs": [
    {
     "data": {
      "text/plain": [
       "array([[ 0.03717218,  0.96282782],\n",
       "       [ 0.06406046,  0.93593954],\n",
       "       [ 0.05886067,  0.94113933],\n",
       "       [ 0.0340015 ,  0.9659985 ],\n",
       "       [ 0.04337448,  0.95662552],\n",
       "       [ 0.02212743,  0.97787257],\n",
       "       [ 0.03783927,  0.96216073],\n",
       "       [ 0.02502925,  0.97497075],\n",
       "       [ 0.06547776,  0.93452224],\n",
       "       [ 0.27326096,  0.72673904]])"
      ]
     },
     "execution_count": 4,
     "metadata": {},
     "output_type": "execute_result"
    }
   ],
   "source": [
    "clf = NaiveBayes( PoissonDistribution )\n",
    "clf.fit( X, y )\n",
    "clf.predict_proba( X[:10] )"
   ]
  },
  {
   "cell_type": "markdown",
   "metadata": {},
   "source": [
    "We can also pass in known distributions as a way to initialize it. We can either pass in a weight vector corresponding to the prior probability of each model, or assume they are equally likely and not pass in anything."
   ]
  },
  {
   "cell_type": "code",
   "execution_count": 5,
   "metadata": {
    "collapsed": false
   },
   "outputs": [
    {
     "data": {
      "text/plain": [
       "array([[ 0.00001824,  0.99998176],\n",
       "       [ 0.00097656,  0.99902344],\n",
       "       [ 0.00052185,  0.99947815],\n",
       "       [ 0.00000959,  0.99999041],\n",
       "       [ 0.00005579,  0.99994421],\n",
       "       [ 0.00000044,  0.99999956],\n",
       "       [ 0.00002075,  0.99997925],\n",
       "       [ 0.00000107,  0.99999893],\n",
       "       [ 0.00114889,  0.99885111],\n",
       "       [ 0.99271239,  0.00728761]])"
      ]
     },
     "execution_count": 5,
     "metadata": {},
     "output_type": "execute_result"
    }
   ],
   "source": [
    "clf = NaiveBayes([NormalDistribution(5, 1), NormalDistribution(9,1)])\n",
    "clf.predict_proba( X[:10] )"
   ]
  },
  {
   "cell_type": "markdown",
   "metadata": {},
   "source": [
    "We can also fit to the data to refine the model."
   ]
  },
  {
   "cell_type": "code",
   "execution_count": 6,
   "metadata": {
    "collapsed": false
   },
   "outputs": [
    {
     "data": {
      "text/plain": [
       "array([[ 0.00000109,  0.99999891],\n",
       "       [ 0.00010142,  0.99989858],\n",
       "       [ 0.00004986,  0.99995014],\n",
       "       [ 0.00000052,  0.99999948],\n",
       "       [ 0.00000392,  0.99999608],\n",
       "       [ 0.00000002,  0.99999998],\n",
       "       [ 0.00000127,  0.99999873],\n",
       "       [ 0.00000004,  0.99999996],\n",
       "       [ 0.00012191,  0.99987809],\n",
       "       [ 0.98133653,  0.01866347]])"
      ]
     },
     "execution_count": 6,
     "metadata": {},
     "output_type": "execute_result"
    }
   ],
   "source": [
    "clf.fit( X, y )\n",
    "clf.predict_proba( X[:10] )"
   ]
  },
  {
   "cell_type": "markdown",
   "metadata": {},
   "source": [
    "We're getting back what we had initially. When we fit we're overriding the distributions with the MLE estimates from the data.\n",
    "\n",
    "However, since Naive Bayes can theoretically use any model which has a fit method and a predict probability method, so can you in pomegranate! Bayesian Networks, hidden Markov models, markov chains, and distributions can all be used. For example, we can compare a 0th order Markov chain to a 1st order Markov chain to see how much better one fits than the other."
   ]
  },
  {
   "cell_type": "code",
   "execution_count": 7,
   "metadata": {
    "collapsed": false
   },
   "outputs": [
    {
     "data": {
      "text/plain": [
       "array([[ 0.98556304,  0.01443696],\n",
       "       [ 0.37209302,  0.62790698],\n",
       "       [ 0.28571429,  0.71428571]])"
      ]
     },
     "execution_count": 7,
     "metadata": {},
     "output_type": "execute_result"
    }
   ],
   "source": [
    "a = MarkovChain([DiscreteDistribution({'A': 0.10, 'C': 0.40, 'G': 0.40, 'T': 0.10})])\n",
    "b = MarkovChain([DiscreteDistribution({'A': 0.10, 'C': 0.40, 'G': 0.40, 'T': 0.10}),\n",
    "                 ConditionalProbabilityTable([['A', 'A', 0.10],\n",
    "                                              ['A', 'C', 0.50],\n",
    "                                              ['A', 'G', 0.30],\n",
    "                                              ['A', 'T', 0.10],\n",
    "                                              ['C', 'A', 0.10],\n",
    "                                              ['C', 'C', 0.40],\n",
    "                                              ['C', 'T', 0.40],\n",
    "                                              ['C', 'G', 0.10],\n",
    "                                              ['G', 'A', 0.05],\n",
    "                                              ['G', 'C', 0.45],\n",
    "                                              ['G', 'G', 0.45],\n",
    "                                              ['G', 'T', 0.05],\n",
    "                                              ['T', 'A', 0.20],\n",
    "                                              ['T', 'C', 0.30],\n",
    "                                              ['T', 'G', 0.30],\n",
    "                                              ['T', 'T', 0.20]])])\n",
    "\n",
    "clf = NaiveBayes([a, b])\n",
    "seqs = numpy.array(map(list, ['ACGATCGAAT', 'GAATTATGC', 'GAAATAAATAC']))\n",
    "\n",
    "clf.predict_proba(seqs)"
   ]
  },
  {
   "cell_type": "markdown",
   "metadata": {},
   "source": [
    "We can even compare a markov chain to a hidden Markov model. For this, lets look at the CG island detection problem. In essence, there are stretches of DNA which are highly enriched for the nucleotides C and G. However, they do include the nucleotides A and T, and so simply calling all C's and G's part of the islands like a GMM would is not useful. A HMM can model this through its underlying structure.Lets use a markov chain with a preference for staying in the CG states versus a hidden Markov model which is a basic CG-island finder."
   ]
  },
  {
   "cell_type": "code",
   "execution_count": 8,
   "metadata": {
    "collapsed": false
   },
   "outputs": [
    {
     "data": {
      "image/png": "[encoded data removed]",
      "text/plain": [
       "<matplotlib.figure.Figure at 0x7f8e8fee7c50>"
      ]
     },
     "metadata": {},
     "output_type": "display_data"
    }
   ],
   "source": [
    "d1 = DiscreteDistribution({'A': 0.25, 'C': 0.25, 'G': 0.25, 'T': 0.25})\n",
    "s1 = State(d1, name=\"s1\")\n",
    "s2 = State(DiscreteDistribution({'A': 0.10, 'C': 0.40, 'G': 0.40, 'T': 0.10}), name=\"s2\")\n",
    "s3 = State(d1, name=\"s3\")\n",
    "\n",
    "c = HiddenMarkovModel('GC Island')\n",
    "c.add_states(s1, s2, s3)\n",
    "c.add_transition( c.start, s1, 0.9 )\n",
    "c.add_transition( c.start, s3, 0.1 )\n",
    "c.add_transition( s1, s1, 0.80 )\n",
    "c.add_transition( s1, s2, 0.20 )\n",
    "c.add_transition( s2, s2, 0.75 )\n",
    "c.add_transition( s2, s3, 0.25 )\n",
    "c.add_transition( s3, s3, 0.80 )\n",
    "c.add_transition( s3, c.end, 0.20 )\n",
    "c.bake()\n",
    "\n",
    "plt.figure( figsize=(4, 8) )\n",
    "c.draw()"
   ]
  },
  {
   "cell_type": "code",
   "execution_count": 9,
   "metadata": {
    "collapsed": false
   },
   "outputs": [
    {
     "data": {
      "text/plain": [
       "array([[ 0.00208704,  0.99791296],\n",
       "       [ 0.37714684,  0.62285316],\n",
       "       [ 0.10567194,  0.89432806]])"
      ]
     },
     "execution_count": 9,
     "metadata": {},
     "output_type": "execute_result"
    }
   ],
   "source": [
    "clf = NaiveBayes([b, c])\n",
    "seqs = numpy.array(map(list, ['ACGATCGCGAGTGCCATTAT', 'GAATTACTAGATATGC', 'GAAACGGCGAGCATGGCTAAATAC']))\n",
    "\n",
    "clf.predict_proba(seqs)"
   ]
  },
  {
   "cell_type": "markdown",
   "metadata": {},
   "source": [
    "We can see that the HMM performs better in all three cases, but in one only slightly better. This could be because the markov chain values were initialized without much thought and there is a much better way to do it. Or it could be because HMMs are a much better tool to do this type of prediction.\n",
    "\n",
    "Naive Bayes models have the same methods as the other models, aka fit, predict, summarize, from_summaries, predict_proba, and predict_log_proba. Lets look at it summarizing batches of 500 sequences for two Markov chains. Obviously this is a very simple example, but it's illustrative of the flexibility of the API. These sequences can be of any length, but we randomly generate a matrix for brevity."
   ]
  },
  {
   "cell_type": "code",
   "execution_count": 10,
   "metadata": {
    "collapsed": false
   },
   "outputs": [],
   "source": [
    "a = MarkovChain([DiscreteDistribution({'A': 0.10, 'C': 0.40, 'G': 0.40, 'T': 0.10})])\n",
    "b = MarkovChain([DiscreteDistribution({'A': 0.10, 'C': 0.40, 'G': 0.40, 'T': 0.10}),\n",
    "                 ConditionalProbabilityTable([['A', 'A', 0.10],\n",
    "                                              ['A', 'C', 0.50],\n",
    "                                              ['A', 'G', 0.30],\n",
    "                                              ['A', 'T', 0.10],\n",
    "                                              ['C', 'A', 0.10],\n",
    "                                              ['C', 'C', 0.40],\n",
    "                                              ['C', 'T', 0.40],\n",
    "                                              ['C', 'G', 0.10],\n",
    "                                              ['G', 'A', 0.05],\n",
    "                                              ['G', 'C', 0.45],\n",
    "                                              ['G', 'G', 0.45],\n",
    "                                              ['G', 'T', 0.05],\n",
    "                                              ['T', 'A', 0.20],\n",
    "                                              ['T', 'C', 0.30],\n",
    "                                              ['T', 'G', 0.30],\n",
    "                                              ['T', 'T', 0.20]])])\n",
    "\n",
    "clf = NaiveBayes([a, b])\n",
    "\n",
    "dna = 'ACGT'\n",
    "for i in range(100):\n",
    "    seqs = numpy.random.randint(0, 4, (500, 50))\n",
    "    seqs = numpy.array([[dna[i] for i in seq] for seq in seqs])\n",
    "    y = numpy.concatenate((numpy.ones(100), numpy.zeros(400)))\n",
    "    clf.summarize(seqs, y)\n",
    "\n",
    "clf.from_summaries()"
   ]
  },
  {
   "cell_type": "markdown",
   "metadata": {},
   "source": [
    "We can check the underlying distributions to see if they were properly updated."
   ]
  },
  {
   "cell_type": "code",
   "execution_count": 15,
   "metadata": {
    "collapsed": false
   },
   "outputs": [
    {
     "name": "stdout",
     "output_type": "stream",
     "text": [
      "Chain 1 Distribution 1\n",
      "{\n",
      "    \"frozen\" :false,\n",
      "    \"class\" :\"Distribution\",\n",
      "    \"parameters\" :[\n",
      "        {\n",
      "            \"A\" :0.2494635,\n",
      "            \"C\" :0.25015850000000001,\n",
      "            \"T\" :0.25011800000000001,\n",
      "            \"G\" :0.25025999999999998\n",
      "        }\n",
      "    ],\n",
      "    \"name\" :\"DiscreteDistribution\"\n",
      "}\n",
      "\n",
      "Chain 2 Distribution 1\n",
      "{\n",
      "    \"frozen\" :false,\n",
      "    \"class\" :\"Distribution\",\n",
      "    \"parameters\" :[\n",
      "        {\n",
      "            \"A\" :0.24709999999999999,\n",
      "            \"C\" :0.2596,\n",
      "            \"T\" :0.2414,\n",
      "            \"G\" :0.25190000000000001\n",
      "        }\n",
      "    ],\n",
      "    \"name\" :\"DiscreteDistribution\"\n",
      "}\n",
      "\n",
      "Chain 2 Distribution 2\n",
      "T\tT\t0.250791676554\n",
      "T\tG\t0.250047050545\n",
      "T\tC\t0.249793386739\n",
      "T\tA\t0.249367886162\n",
      "G\tT\t0.24863894217\n",
      "G\tG\t0.250973350202\n",
      "G\tC\t0.251324327633\n",
      "G\tA\t0.249063379994\n",
      "C\tG\t0.251796687421\n",
      "C\tT\t0.24950148537\n",
      "C\tC\t0.249932853131\n",
      "C\tA\t0.248768974077\n",
      "A\tT\t0.24965893588\n",
      "A\tG\t0.247371559745\n",
      "A\tC\t0.251251929974\n",
      "A\tA\t0.251717574401\n",
      "\n",
      "Priors\n",
      "[ 0.8  0.2]\n"
     ]
    }
   ],
   "source": [
    "print \"Chain 1 Distribution 1\"\n",
    "print clf.models[0].distributions[0]\n",
    "print\n",
    "print \"Chain 2 Distribution 1\"\n",
    "print clf.models[1].distributions[0]\n",
    "print\n",
    "print \"Chain 2 Distribution 2\"\n",
    "print clf.models[1].distributions[1]\n",
    "print\n",
    "print \"Priors\"\n",
    "print clf.weights"
   ]
  },
  {
   "cell_type": "markdown",
   "metadata": {},
   "source": [
    "We can see that they've all normalized to basically a uniform distribution, which makes sense because that's the distribution that the data was generated from."
   ]
  }
 ],
 "metadata": {
  "kernelspec": {
   "display_name": "Python 2",
   "language": "python",
   "name": "python2"
  },
  "language_info": {
   "codemirror_mode": {
    "name": "ipython",
    "version": 2
   },
   "file_extension": ".py",
   "mimetype": "text/x-python",
   "name": "python",
   "nbconvert_exporter": "python",
   "pygments_lexer": "ipython2",
   "version": "2.7.11"
  }
 },
 "nbformat": 4,
 "nbformat_minor": 0
}
